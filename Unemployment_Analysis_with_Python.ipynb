{
  "nbformat": 4,
  "nbformat_minor": 0,
  "metadata": {
    "colab": {
      "private_outputs": true,
      "provenance": []
    },
    "kernelspec": {
      "name": "python3",
      "display_name": "Python 3"
    },
    "language_info": {
      "name": "python"
    }
  },
  "cells": [
    {
      "cell_type": "code",
      "execution_count": null,
      "metadata": {
        "id": "CV1Kuc3Ifu06"
      },
      "outputs": [],
      "source": [
        "import pandas as pd\n",
        "import numpy as np\n",
        "\n",
        "# Create date range\n",
        "dates = pd.date_range(start=\"2018-01\", end=\"2023-12\", freq=\"M\")\n",
        "\n",
        "# Generate random unemployment rates with a Covid spike (2020-2021)\n",
        "np.random.seed(42)\n",
        "unemployment_rate = np.random.uniform(4, 6, len(dates))  # base rate 4%-6%\n",
        "\n",
        "# Add Covid spike\n",
        "for i in range(len(dates)):\n",
        "    if dates[i].year in [2020, 2021]:\n",
        "        unemployment_rate[i] += np.random.uniform(2, 6)  # spike during Covid\n",
        "\n",
        "# Create DataFrame\n",
        "df = pd.DataFrame({\n",
        "    \"Date\": dates,\n",
        "    \"Unemployment_Rate\": np.round(unemployment_rate, 2)\n",
        "})\n",
        "\n",
        "df.to_csv(\"unemployment_data.csv\", index=False)\n",
        "df.head()\n"
      ]
    },
    {
      "cell_type": "code",
      "source": [
        "# Load dataset\n",
        "df = pd.read_csv(\"unemployment_data.csv\")\n",
        "\n",
        "# Check for missing values\n",
        "print(\"Missing Values:\\n\", df.isnull().sum())\n",
        "\n",
        "# Ensure Date format\n",
        "df[\"Date\"] = pd.to_datetime(df[\"Date\"])\n",
        "\n",
        "df.head()\n"
      ],
      "metadata": {
        "id": "O_d0JmSzfztG"
      },
      "execution_count": null,
      "outputs": []
    },
    {
      "cell_type": "code",
      "source": [
        "print(\"Data Summary:\")\n",
        "print(df.describe())\n",
        "\n",
        "print(\"\\nDate Range:\", df[\"Date\"].min(), \"to\", df[\"Date\"].max())\n",
        "\n",
        "# Average unemployment before and during Covid\n",
        "pre_covid = df[df[\"Date\"] < \"2020-03\"][\"Unemployment_Rate\"].mean()\n",
        "during_covid = df[(df[\"Date\"] >= \"2020-03\") & (df[\"Date\"] <= \"2021-12\")][\"Unemployment_Rate\"].mean()\n",
        "post_covid = df[df[\"Date\"] > \"2021-12\"][\"Unemployment_Rate\"].mean()\n",
        "\n",
        "print(f\"\\nAverage Pre-Covid: {pre_covid:.2f}%\")\n",
        "print(f\"Average During Covid: {during_covid:.2f}%\")\n",
        "print(f\"Average Post-Covid: {post_covid:.2f}%\")\n"
      ],
      "metadata": {
        "id": "Lp3O9kUnf37Z"
      },
      "execution_count": null,
      "outputs": []
    },
    {
      "cell_type": "code",
      "source": [
        "import matplotlib.pyplot as plt\n",
        "import seaborn as sns\n",
        "\n",
        "plt.figure(figsize=(12,6))\n",
        "sns.lineplot(data=df, x=\"Date\", y=\"Unemployment_Rate\", marker=\"o\")\n",
        "plt.axvspan(pd.to_datetime(\"2020-03\"), pd.to_datetime(\"2021-12\"),\n",
        "            color=\"red\", alpha=0.2, label=\"Covid-19 Period\")\n",
        "plt.title(\"Unemployment Rate Trends (2018-2023)\")\n",
        "plt.xlabel(\"Year\")\n",
        "plt.ylabel(\"Unemployment Rate (%)\")\n",
        "plt.legend()\n",
        "plt.show()\n"
      ],
      "metadata": {
        "id": "SQihulO5f7au"
      },
      "execution_count": null,
      "outputs": []
    },
    {
      "cell_type": "code",
      "source": [
        "df[\"Year\"] = df[\"Date\"].dt.year\n",
        "df[\"Month\"] = df[\"Date\"].dt.month\n",
        "\n",
        "plt.figure(figsize=(10,6))\n",
        "sns.boxplot(data=df, x=\"Month\", y=\"Unemployment_Rate\")\n",
        "plt.title(\"Seasonal Trends in Unemployment Rates\")\n",
        "plt.xlabel(\"Month\")\n",
        "plt.ylabel(\"Unemployment Rate (%)\")\n",
        "plt.show()\n"
      ],
      "metadata": {
        "id": "W3JA3HxpgEs8"
      },
      "execution_count": null,
      "outputs": []
    },
    {
      "cell_type": "code",
      "source": [
        "print(\"📌 Insights:\")\n",
        "print(\"1. There is a clear spike in unemployment during 2020-2021 due to Covid-19.\")\n",
        "print(\"2. Average unemployment increased from {:.2f}% pre-Covid to {:.2f}% during Covid.\".format(pre_covid, during_covid))\n",
        "print(\"3. Post-Covid rates show partial recovery but not fully back to pre-Covid levels.\")\n",
        "print(\"4. Minor seasonal variation seen, possibly due to hiring cycles in certain months.\")\n"
      ],
      "metadata": {
        "id": "hadtD59QgIqd"
      },
      "execution_count": null,
      "outputs": []
    }
  ]
}